{
 "cells": [
  {
   "cell_type": "code",
   "execution_count": 1,
   "metadata": {},
   "outputs": [],
   "source": [
    "import pandas as pd\n",
    "from sklearn.utils import resample\n",
    "from sklearn import metrics"
   ]
  },
  {
   "cell_type": "code",
   "execution_count": 2,
   "metadata": {},
   "outputs": [],
   "source": [
    "train = pd.read_pickle(\"./data/train.pickle\")\n",
    "test = pd.read_pickle(\"./data/test.pickle\")"
   ]
  },
  {
   "cell_type": "markdown",
   "metadata": {},
   "source": [
    "## Upsampling"
   ]
  },
  {
   "cell_type": "code",
   "execution_count": 3,
   "metadata": {},
   "outputs": [
    {
     "data": {
      "text/plain": [
       "1    21495\n",
       "0    21495\n",
       "Name: returnLabel, dtype: int64"
      ]
     },
     "execution_count": 3,
     "metadata": {},
     "output_type": "execute_result"
    }
   ],
   "source": [
    "train_majority = train[train.returnLabel==0].reset_index(drop=True)\n",
    "train_minority = train[train.returnLabel==1].reset_index(drop=True)\n",
    "\n",
    "# Upsample minority class\n",
    "target = train_majority.shape[0]\n",
    "upsampled = resample(train_minority, replace=True, n_samples=target, random_state=0)\n",
    "\n",
    "# Combine majority class with upsampled minority class\n",
    "train_upsampled = pd.concat([train_majority, upsampled])\n",
    "\n",
    "# Show new class counts\n",
    "train_upsampled.returnLabel.value_counts()"
   ]
  },
  {
   "cell_type": "code",
   "execution_count": 4,
   "metadata": {},
   "outputs": [],
   "source": [
    "X_train = train_upsampled.drop(\"returnLabel\", axis=1)\n",
    "y_train = train_upsampled[\"returnLabel\"]\n",
    "X_test = test.drop(\"returnLabel\", axis=1)\n",
    "y_test = test[\"returnLabel\"]"
   ]
  },
  {
   "cell_type": "code",
   "execution_count": 5,
   "metadata": {},
   "outputs": [
    {
     "data": {
      "text/plain": [
       "(42990, 908)"
      ]
     },
     "execution_count": 5,
     "metadata": {},
     "output_type": "execute_result"
    }
   ],
   "source": [
    "X_train.shape"
   ]
  },
  {
   "cell_type": "code",
   "execution_count": 6,
   "metadata": {},
   "outputs": [],
   "source": [
    "train.to_pickle(\"./data/train_upsampled.pickle\")"
   ]
  },
  {
   "cell_type": "code",
   "execution_count": 7,
   "metadata": {},
   "outputs": [
    {
     "data": {
      "text/plain": [
       "LogisticRegression(max_iter=5000)"
      ]
     },
     "execution_count": 7,
     "metadata": {},
     "output_type": "execute_result"
    }
   ],
   "source": [
    "from sklearn.linear_model import LogisticRegression\n",
    "logreg_up = LogisticRegression(max_iter=5000)\n",
    "logreg_up.fit(X_train, y_train)"
   ]
  },
  {
   "cell_type": "code",
   "execution_count": 8,
   "metadata": {},
   "outputs": [
    {
     "data": {
      "text/plain": [
       "GradientBoostingClassifier()"
      ]
     },
     "execution_count": 8,
     "metadata": {},
     "output_type": "execute_result"
    }
   ],
   "source": [
    "from sklearn.ensemble import GradientBoostingClassifier\n",
    "gbt_up = GradientBoostingClassifier()\n",
    "gbt_up.fit(X_train, y_train)"
   ]
  },
  {
   "cell_type": "code",
   "execution_count": 9,
   "metadata": {},
   "outputs": [],
   "source": [
    "test_scores = logreg_up.predict_proba(X_test)\n",
    "fpr_reg_up, tpr_reg_up, _ = metrics.roc_curve(y_test, test_scores[:,1])\n",
    "auc_reg_up = metrics.auc(fpr_reg_up, tpr_reg_up)"
   ]
  },
  {
   "cell_type": "code",
   "execution_count": 10,
   "metadata": {},
   "outputs": [],
   "source": [
    "test_scores = gbt_up.predict_proba(X_test)\n",
    "fpr_gbt_up, tpr_gbt_up, _ = metrics.roc_curve(y_test, test_scores[:,1])\n",
    "auc_gbt_up = metrics.auc(fpr_gbt_up, tpr_gbt_up)"
   ]
  },
  {
   "cell_type": "code",
   "execution_count": 11,
   "metadata": {},
   "outputs": [],
   "source": [
    "predictions = pd.read_csv(\"./data/predictions_test.csv\")\n",
    "fpr_reg, tpr_reg, _ = metrics.roc_curve(predictions[\"label\"], predictions[\"predReg\"])\n",
    "auc_reg = metrics.auc(fpr_reg, tpr_reg)\n",
    "fpr_gbt, tpr_gbt, _ = metrics.roc_curve(predictions[\"label\"], predictions[\"predGbt\"])\n",
    "auc_gbt = metrics.auc(fpr_gbt, tpr_gbt)"
   ]
  },
  {
   "cell_type": "code",
   "execution_count": 12,
   "metadata": {},
   "outputs": [
    {
     "data": {
      "image/png": "[encoded data removed]",
      "text/plain": [
       "<Figure size 432x288 with 1 Axes>"
      ]
     },
     "metadata": {
      "needs_background": "light"
     },
     "output_type": "display_data"
    }
   ],
   "source": [
    "%matplotlib inline\n",
    "import matplotlib.pyplot as plt\n",
    "plt.figure()\n",
    "plt.plot(fpr_reg_up, tpr_reg_up, color = 'red', label=f\"reg_up:{auc_reg_up:.3f}\")\n",
    "plt.plot(fpr_gbt_up, tpr_gbt_up, color = 'black', label=f\"gbt_up:{auc_gbt_up:.3f}\")\n",
    "plt.plot(fpr_reg, tpr_reg, color = 'blue', label=f\"reg:{auc_reg:.3f}\")\n",
    "plt.plot(fpr_gbt, tpr_gbt, color = 'green', label=f\"gbt:{auc_gbt:.3f}\")\n",
    "plt.legend()\n",
    "plt.grid()\n",
    "plt.show()"
   ]
  },
  {
   "cell_type": "code",
   "execution_count": 13,
   "metadata": {},
   "outputs": [],
   "source": [
    "# save predictions of upsampled reg model\n",
    "predictions['predReg_up'] = test_scores[:,1]\n",
    "predictions.to_csv(\"./data/predictions_up.csv\", index=False)"
   ]
  },
  {
   "cell_type": "code",
   "execution_count": 14,
   "metadata": {},
   "outputs": [],
   "source": [
    "# save predictions to csv\n",
    "df = pd.read_csv(\"./data/predictions_train.csv\")\n",
    "df[\"predReg_up\"] = logreg_up.predict_proba(train[train.columns[1:]])[:,1]\n",
    "df.to_csv(\"./data/predictions_train_up.csv\", index=False)"
   ]
  },
  {
   "cell_type": "markdown",
   "metadata": {},
   "source": [
    "## Downsampling"
   ]
  },
  {
   "cell_type": "code",
   "execution_count": 15,
   "metadata": {},
   "outputs": [
    {
     "data": {
      "text/plain": [
       "1    205\n",
       "0    205\n",
       "Name: returnLabel, dtype: int64"
      ]
     },
     "execution_count": 15,
     "metadata": {},
     "output_type": "execute_result"
    }
   ],
   "source": [
    "# Upsample minority class\n",
    "target = train_minority.shape[0]\n",
    "downsampled = resample(train_majority, n_samples=target, random_state=0)\n",
    "\n",
    "# Combine majority class with upsampled minority class\n",
    "train_downsampled = pd.concat([downsampled, train_minority])\n",
    "\n",
    "# Show new class counts\n",
    "train_downsampled.returnLabel.value_counts()"
   ]
  },
  {
   "cell_type": "code",
   "execution_count": 16,
   "metadata": {},
   "outputs": [
    {
     "data": {
      "text/html": [
       "<div>\n",
       "<style scoped>\n",
       "    .dataframe tbody tr th:only-of-type {\n",
       "        vertical-align: middle;\n",
       "    }\n",
       "\n",
       "    .dataframe tbody tr th {\n",
       "        vertical-align: top;\n",
       "    }\n",
       "\n",
       "    .dataframe thead th {\n",
       "        text-align: right;\n",
       "    }\n",
       "</style>\n",
       "<table border=\"1\" class=\"dataframe\">\n",
       "  <thead>\n",
       "    <tr style=\"text-align: right;\">\n",
       "      <th></th>\n",
       "      <th>totalAmount</th>\n",
       "      <th>returnLabel</th>\n",
       "      <th>c_0</th>\n",
       "      <th>c_1</th>\n",
       "      <th>c_2</th>\n",
       "      <th>c_3</th>\n",
       "      <th>c_4</th>\n",
       "      <th>c_5</th>\n",
       "      <th>100</th>\n",
       "      <th>101</th>\n",
       "      <th>...</th>\n",
       "      <th>991</th>\n",
       "      <th>992</th>\n",
       "      <th>993</th>\n",
       "      <th>994</th>\n",
       "      <th>995</th>\n",
       "      <th>996</th>\n",
       "      <th>997</th>\n",
       "      <th>998</th>\n",
       "      <th>999</th>\n",
       "      <th>1000</th>\n",
       "    </tr>\n",
       "  </thead>\n",
       "  <tbody>\n",
       "    <tr>\n",
       "      <th>2732</th>\n",
       "      <td>264</td>\n",
       "      <td>0</td>\n",
       "      <td>0</td>\n",
       "      <td>2</td>\n",
       "      <td>1</td>\n",
       "      <td>0</td>\n",
       "      <td>0</td>\n",
       "      <td>0</td>\n",
       "      <td>0</td>\n",
       "      <td>0</td>\n",
       "      <td>...</td>\n",
       "      <td>0</td>\n",
       "      <td>0</td>\n",
       "      <td>0</td>\n",
       "      <td>0</td>\n",
       "      <td>0</td>\n",
       "      <td>0</td>\n",
       "      <td>0</td>\n",
       "      <td>0</td>\n",
       "      <td>0</td>\n",
       "      <td>0</td>\n",
       "    </tr>\n",
       "    <tr>\n",
       "      <th>10799</th>\n",
       "      <td>153</td>\n",
       "      <td>0</td>\n",
       "      <td>0</td>\n",
       "      <td>0</td>\n",
       "      <td>0</td>\n",
       "      <td>1</td>\n",
       "      <td>1</td>\n",
       "      <td>1</td>\n",
       "      <td>0</td>\n",
       "      <td>0</td>\n",
       "      <td>...</td>\n",
       "      <td>0</td>\n",
       "      <td>0</td>\n",
       "      <td>0</td>\n",
       "      <td>0</td>\n",
       "      <td>0</td>\n",
       "      <td>0</td>\n",
       "      <td>0</td>\n",
       "      <td>0</td>\n",
       "      <td>0</td>\n",
       "      <td>0</td>\n",
       "    </tr>\n",
       "    <tr>\n",
       "      <th>9845</th>\n",
       "      <td>861</td>\n",
       "      <td>0</td>\n",
       "      <td>2</td>\n",
       "      <td>2</td>\n",
       "      <td>1</td>\n",
       "      <td>0</td>\n",
       "      <td>1</td>\n",
       "      <td>1</td>\n",
       "      <td>0</td>\n",
       "      <td>0</td>\n",
       "      <td>...</td>\n",
       "      <td>0</td>\n",
       "      <td>0</td>\n",
       "      <td>0</td>\n",
       "      <td>0</td>\n",
       "      <td>0</td>\n",
       "      <td>0</td>\n",
       "      <td>0</td>\n",
       "      <td>0</td>\n",
       "      <td>0</td>\n",
       "      <td>0</td>\n",
       "    </tr>\n",
       "    <tr>\n",
       "      <th>19648</th>\n",
       "      <td>237</td>\n",
       "      <td>0</td>\n",
       "      <td>0</td>\n",
       "      <td>0</td>\n",
       "      <td>0</td>\n",
       "      <td>2</td>\n",
       "      <td>0</td>\n",
       "      <td>1</td>\n",
       "      <td>0</td>\n",
       "      <td>0</td>\n",
       "      <td>...</td>\n",
       "      <td>0</td>\n",
       "      <td>0</td>\n",
       "      <td>0</td>\n",
       "      <td>0</td>\n",
       "      <td>0</td>\n",
       "      <td>0</td>\n",
       "      <td>0</td>\n",
       "      <td>0</td>\n",
       "      <td>0</td>\n",
       "      <td>0</td>\n",
       "    </tr>\n",
       "    <tr>\n",
       "      <th>13123</th>\n",
       "      <td>135</td>\n",
       "      <td>0</td>\n",
       "      <td>0</td>\n",
       "      <td>0</td>\n",
       "      <td>1</td>\n",
       "      <td>1</td>\n",
       "      <td>1</td>\n",
       "      <td>0</td>\n",
       "      <td>0</td>\n",
       "      <td>0</td>\n",
       "      <td>...</td>\n",
       "      <td>0</td>\n",
       "      <td>0</td>\n",
       "      <td>0</td>\n",
       "      <td>0</td>\n",
       "      <td>0</td>\n",
       "      <td>0</td>\n",
       "      <td>0</td>\n",
       "      <td>0</td>\n",
       "      <td>0</td>\n",
       "      <td>0</td>\n",
       "    </tr>\n",
       "  </tbody>\n",
       "</table>\n",
       "<p>5 rows × 909 columns</p>\n",
       "</div>"
      ],
      "text/plain": [
       "       totalAmount  returnLabel  c_0  c_1  c_2  c_3  c_4  c_5  100  101  ...  \\\n",
       "2732           264            0    0    2    1    0    0    0    0    0  ...   \n",
       "10799          153            0    0    0    0    1    1    1    0    0  ...   \n",
       "9845           861            0    2    2    1    0    1    1    0    0  ...   \n",
       "19648          237            0    0    0    0    2    0    1    0    0  ...   \n",
       "13123          135            0    0    0    1    1    1    0    0    0  ...   \n",
       "\n",
       "       991  992  993  994  995  996  997  998  999  1000  \n",
       "2732     0    0    0    0    0    0    0    0    0     0  \n",
       "10799    0    0    0    0    0    0    0    0    0     0  \n",
       "9845     0    0    0    0    0    0    0    0    0     0  \n",
       "19648    0    0    0    0    0    0    0    0    0     0  \n",
       "13123    0    0    0    0    0    0    0    0    0     0  \n",
       "\n",
       "[5 rows x 909 columns]"
      ]
     },
     "execution_count": 16,
     "metadata": {},
     "output_type": "execute_result"
    }
   ],
   "source": [
    "train_downsampled.head()"
   ]
  },
  {
   "cell_type": "code",
   "execution_count": 17,
   "metadata": {},
   "outputs": [],
   "source": [
    "X_train = train_downsampled.drop(\"returnLabel\", axis=1)\n",
    "y_train = train_downsampled[\"returnLabel\"]"
   ]
  },
  {
   "cell_type": "code",
   "execution_count": 18,
   "metadata": {},
   "outputs": [
    {
     "data": {
      "text/plain": [
       "GradientBoostingClassifier()"
      ]
     },
     "execution_count": 18,
     "metadata": {},
     "output_type": "execute_result"
    }
   ],
   "source": [
    "logreg_up = LogisticRegression(max_iter=5000)\n",
    "logreg_up.fit(X_train, y_train)\n",
    "gbt_up = GradientBoostingClassifier()\n",
    "gbt_up.fit(X_train, y_train)"
   ]
  },
  {
   "cell_type": "code",
   "execution_count": 19,
   "metadata": {},
   "outputs": [],
   "source": [
    "test_scores = logreg_up.predict_proba(X_test)\n",
    "fpr_reg_up, tpr_reg_up, _ = metrics.roc_curve(y_test, test_scores[:,1])\n",
    "auc_reg_up = metrics.auc(fpr_reg_up, tpr_reg_up)\n",
    "test_scores = gbt_up.predict_proba(X_test)\n",
    "fpr_gbt_up, tpr_gbt_up, _ = metrics.roc_curve(y_test, test_scores[:,1])\n",
    "auc_gbt_up = metrics.auc(fpr_gbt_up, tpr_gbt_up)"
   ]
  },
  {
   "cell_type": "code",
   "execution_count": 20,
   "metadata": {},
   "outputs": [
    {
     "data": {
      "image/png": "[encoded data removed]",
      "text/plain": [
       "<Figure size 432x288 with 1 Axes>"
      ]
     },
     "metadata": {
      "needs_background": "light"
     },
     "output_type": "display_data"
    }
   ],
   "source": [
    "plt.figure()\n",
    "plt.plot(fpr_reg_up, tpr_reg_up, color='red', label=f\"reg_down:{auc_reg_up:.3f}\")\n",
    "plt.plot(fpr_gbt_up, tpr_gbt_up, color='black', label=f\"gbt_down:{auc_gbt_up:.3f}\")\n",
    "plt.plot(fpr_reg, tpr_reg, color='blue', label=f\"reg:{auc_reg:.3f}\")\n",
    "plt.plot(fpr_gbt, tpr_gbt, color='green', label=f\"gbt:{auc_gbt:.3f}\")\n",
    "plt.legend()\n",
    "plt.grid()\n",
    "plt.show()"
   ]
  },
  {
   "cell_type": "markdown",
   "metadata": {},
   "source": [
    "### SMOTE algorithm"
   ]
  },
  {
   "cell_type": "code",
   "execution_count": 21,
   "metadata": {},
   "outputs": [
    {
     "data": {
      "text/plain": [
       "LogisticRegression(max_iter=5000)"
      ]
     },
     "execution_count": 21,
     "metadata": {},
     "output_type": "execute_result"
    }
   ],
   "source": [
    "from imblearn.over_sampling import SMOTE\n",
    "X_train = train.drop(\"returnLabel\", axis=1)\n",
    "y_train = train[\"returnLabel\"]\n",
    "\n",
    "sm = SMOTE(random_state=0)\n",
    "X_res, y_res = sm.fit_resample(X_train, y_train)\n",
    "\n",
    "logreg_sm = LogisticRegression(max_iter=5000)\n",
    "logreg_sm.fit(X_res, y_res)"
   ]
  },
  {
   "cell_type": "code",
   "execution_count": 22,
   "metadata": {},
   "outputs": [],
   "source": [
    "test_scores = logreg_sm.predict_proba(X_test)\n",
    "fpr_reg_sm, tpr_reg_sm, _ = metrics.roc_curve(y_test, test_scores[:,1])\n",
    "auc_reg_sm = metrics.auc(fpr_reg_sm, tpr_reg_sm)"
   ]
  },
  {
   "cell_type": "code",
   "execution_count": 24,
   "metadata": {},
   "outputs": [
    {
     "data": {
      "image/png": "[encoded data removed]",
      "text/plain": [
       "<Figure size 432x288 with 1 Axes>"
      ]
     },
     "metadata": {
      "needs_background": "light"
     },
     "output_type": "display_data"
    }
   ],
   "source": [
    "plt.figure()\n",
    "plt.plot(fpr_reg, tpr_reg, color='blue', label=f\"reg:{auc_reg:.3f}\")\n",
    "plt.plot(fpr_reg_sm, tpr_reg_sm, color='red', label=f\"reg_sm:{auc_reg_sm:.3f}\")\n",
    "plt.legend()\n",
    "plt.grid()\n",
    "plt.show()"
   ]
  }
 ],
 "metadata": {
  "kernelspec": {
   "display_name": "Python 3",
   "language": "python",
   "name": "python3"
  },
  "language_info": {
   "codemirror_mode": {
    "name": "ipython",
    "version": 3
   },
   "file_extension": ".py",
   "mimetype": "text/x-python",
   "name": "python",
   "nbconvert_exporter": "python",
   "pygments_lexer": "ipython3",
   "version": "3.8.5"
  }
 },
 "nbformat": 4,
 "nbformat_minor": 2
}
