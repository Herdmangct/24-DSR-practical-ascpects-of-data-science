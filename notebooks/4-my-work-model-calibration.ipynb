{
 "cells": [
  {
   "cell_type": "markdown",
   "id": "1e648465-7801-4290-903a-3d289585b2b4",
   "metadata": {},
   "source": [
    "# Model Calibration "
   ]
  },
  {
   "cell_type": "code",
   "execution_count": 29,
   "id": "9aa74d46-f5a9-4cb9-80e2-a95679a635a4",
   "metadata": {},
   "outputs": [],
   "source": [
    "# import statements\n",
    "import pandas as pd\n",
    "import numpy as np\n",
    "import matplotlib.pyplot as plt"
   ]
  },
  {
   "cell_type": "code",
   "execution_count": 43,
   "id": "98b71db0-7fa2-43ae-a7dd-5c43f265bfb1",
   "metadata": {},
   "outputs": [],
   "source": [
    "plt.rcParams[\"figure.figsize\"] = (10,10)"
   ]
  },
  {
   "cell_type": "markdown",
   "id": "243661b9-e71b-4184-8e48-2c8efdd4e000",
   "metadata": {},
   "source": [
    "## 1) Brier Score Calculation "
   ]
  },
  {
   "cell_type": "code",
   "execution_count": 3,
   "id": "ef5d9144-eb19-422f-a8a2-d8e83b2d26da",
   "metadata": {},
   "outputs": [],
   "source": [
    "df = pd.read_csv('./data/predictions_up.csv')"
   ]
  },
  {
   "cell_type": "code",
   "execution_count": 4,
   "id": "e144d62c-7ffe-42ba-a945-f30504b8e2d2",
   "metadata": {},
   "outputs": [
    {
     "data": {
      "text/html": [
       "<div>\n",
       "<style scoped>\n",
       "    .dataframe tbody tr th:only-of-type {\n",
       "        vertical-align: middle;\n",
       "    }\n",
       "\n",
       "    .dataframe tbody tr th {\n",
       "        vertical-align: top;\n",
       "    }\n",
       "\n",
       "    .dataframe thead th {\n",
       "        text-align: right;\n",
       "    }\n",
       "</style>\n",
       "<table border=\"1\" class=\"dataframe\">\n",
       "  <thead>\n",
       "    <tr style=\"text-align: right;\">\n",
       "      <th></th>\n",
       "      <th>label</th>\n",
       "      <th>predReg</th>\n",
       "      <th>predGbt</th>\n",
       "      <th>predReg_up</th>\n",
       "    </tr>\n",
       "  </thead>\n",
       "  <tbody>\n",
       "    <tr>\n",
       "      <th>0</th>\n",
       "      <td>0</td>\n",
       "      <td>0.000048</td>\n",
       "      <td>0.000553</td>\n",
       "      <td>0.021381</td>\n",
       "    </tr>\n",
       "    <tr>\n",
       "      <th>1</th>\n",
       "      <td>0</td>\n",
       "      <td>0.000298</td>\n",
       "      <td>0.004249</td>\n",
       "      <td>0.005709</td>\n",
       "    </tr>\n",
       "    <tr>\n",
       "      <th>2</th>\n",
       "      <td>0</td>\n",
       "      <td>0.005385</td>\n",
       "      <td>0.003387</td>\n",
       "      <td>0.042259</td>\n",
       "    </tr>\n",
       "    <tr>\n",
       "      <th>3</th>\n",
       "      <td>0</td>\n",
       "      <td>0.011068</td>\n",
       "      <td>0.010059</td>\n",
       "      <td>0.683194</td>\n",
       "    </tr>\n",
       "    <tr>\n",
       "      <th>4</th>\n",
       "      <td>0</td>\n",
       "      <td>0.000002</td>\n",
       "      <td>0.000487</td>\n",
       "      <td>0.017195</td>\n",
       "    </tr>\n",
       "  </tbody>\n",
       "</table>\n",
       "</div>"
      ],
      "text/plain": [
       "   label   predReg   predGbt  predReg_up\n",
       "0      0  0.000048  0.000553    0.021381\n",
       "1      0  0.000298  0.004249    0.005709\n",
       "2      0  0.005385  0.003387    0.042259\n",
       "3      0  0.011068  0.010059    0.683194\n",
       "4      0  0.000002  0.000487    0.017195"
      ]
     },
     "execution_count": 4,
     "metadata": {},
     "output_type": "execute_result"
    }
   ],
   "source": [
    "df.head()"
   ]
  },
  {
   "cell_type": "markdown",
   "id": "2ce997bf-3442-4a3d-ad70-8257ede8e559",
   "metadata": {},
   "source": [
    "$Brier Score=\\frac{1}{N}\\sum_{t=1}^N (f_{t} - o_{t})^2$ <br>\n",
    "$f_{t}$ = probability (output from model) <br>\n",
    "$o_{t}$ = observed probability <br>\n",
    "N = number of data points <br>"
   ]
  },
  {
   "cell_type": "markdown",
   "id": "ee545e22-15e0-4b7c-9412-ec4b96739398",
   "metadata": {},
   "source": [
    "Smaller the Brier Score the better it is"
   ]
  },
  {
   "cell_type": "code",
   "execution_count": 12,
   "id": "e47b585a-4621-4293-8c2e-1880f1f308b8",
   "metadata": {},
   "outputs": [],
   "source": [
    "def brier_score(N, df, column):\n",
    "    results = df.loc[:, column] - df.loc[:, 'label']\n",
    "    results = results.apply(lambda x: x**2)\n",
    "    return results.sum() / N"
   ]
  },
  {
   "cell_type": "code",
   "execution_count": 17,
   "id": "bf43fd61-9bda-4ed3-962a-0f88ca01fc1c",
   "metadata": {},
   "outputs": [
    {
     "name": "stdout",
     "output_type": "stream",
     "text": [
      "Brier Score for Logistic Regression is 0.0071\n",
      "Brier Score for Gradient Boosted Tree is 0.0096\n",
      "Brier Score for Upsampled Logistic Regression is 0.0872\n"
     ]
    }
   ],
   "source": [
    "N = df.shape[0]\n",
    "brier_score_logistic_regression = brier_score(N, df, 'predReg')\n",
    "brier_score_gradient_boosted_tree = brier_score(N, df, 'predGbt')\n",
    "brier_score_upsampled_logistic_regression = brier_score(N, df, 'predReg_up')\n",
    "\n",
    "print(f\"Brier Score for Logistic Regression is {round(brier_score_logistic_regression, 4)}\")\n",
    "print(f\"Brier Score for Gradient Boosted Tree is {round(brier_score_gradient_boosted_tree, 4)}\")\n",
    "print(f\"Brier Score for Upsampled Logistic Regression is {round(brier_score_upsampled_logistic_regression, 4)}\")"
   ]
  },
  {
   "cell_type": "markdown",
   "id": "d65fdd95-ef41-4d12-88bf-dca7745a25b3",
   "metadata": {},
   "source": [
    "## 2) Calibration Plot"
   ]
  },
  {
   "cell_type": "code",
   "execution_count": 24,
   "id": "b32a5111-1fc0-4060-9ba7-a11207c323a7",
   "metadata": {},
   "outputs": [],
   "source": [
    "def calculate_buckets(df, classifier, bucket_size=100):\n",
    "    real_probabilities = []\n",
    "    predicted_probabilities = []\n",
    "    \n",
    "    df_sorted_values = df.sort_values(classifier, ascending=False)\n",
    "    number_of_buckets = np.arange(len(df_sorted_values))//bucket_size\n",
    "    df_buckets = df_sorted_values.groupby(number_of_buckets)\n",
    "    \n",
    "    for _, bucket in df_buckets:\n",
    "        real_probability_of_bucket = bucket.loc[:, 'label'].sum() / bucket.shape[0]\n",
    "        predicted_probability_of_bucket = bucket.loc[:, classifier].sum() / bucket.shape[0]\n",
    "        \n",
    "        real_probabilities.append(real_probability_of_bucket)\n",
    "        predicted_probabilities.append(predicted_probability_of_bucket)\n",
    "        \n",
    "    return real_probabilities, predicted_probabilities"
   ]
  },
  {
   "cell_type": "code",
   "execution_count": 28,
   "id": "947e5f13-e829-4d5d-ac33-710b53b1471c",
   "metadata": {},
   "outputs": [],
   "source": [
    "logistic_regression_real_probabilities, logistic_regression_predicted_probabilities = calculate_buckets(df, 'predReg')\n",
    "gradient_boosted_tree_real_probabilities, gradient_boosted_tree_predicted_probabilities = calculate_buckets(df, 'predGbt')\n",
    "up_sampled_logistic_regression_real_probabilities, up_sampled_logistic_regression_predicted_probabilities = calculate_buckets(df, 'predReg_up')\n"
   ]
  },
  {
   "cell_type": "code",
   "execution_count": 44,
   "id": "4ffe9101-5ddb-40d7-a763-efc8189e0abd",
   "metadata": {},
   "outputs": [
    {
     "data": {
      "image/png": "[encoded data removed]",
      "text/plain": [
       "<Figure size 720x720 with 1 Axes>"
      ]
     },
     "metadata": {
      "needs_background": "light"
     },
     "output_type": "display_data"
    }
   ],
   "source": [
    "plt.plot([0, 1], [0, 1], label = \"Perfect\")\n",
    "plt.plot(logistic_regression_predicted_probabilities, logistic_regression_real_probabilities, label = \"Logistic Regression\")\n",
    "plt.plot(gradient_boosted_tree_predicted_probabilities, gradient_boosted_tree_real_probabilities, label = \"Gradient Boosted Tree\")\n",
    "plt.plot(up_sampled_logistic_regression_predicted_probabilities, up_sampled_logistic_regression_real_probabilities, label = \"Up Sampled Logistic Regression\")\n",
    "plt.title(\"Calibration plots (reliability curve)\")\n",
    "plt.legend()\n",
    "plt.show()"
   ]
  },
  {
   "cell_type": "code",
   "execution_count": 18,
   "id": "df76ee3a-d995-4437-8f3f-d98410258160",
   "metadata": {},
   "outputs": [],
   "source": [
    "bucket_size = 100\n",
    "df = df\n",
    "classifier = \"predReg\"\n",
    "\n",
    "df_sorted_values = df.sort_values(classifier, ascending=False)\n",
    "number_of_buckets = np.arange(len(df_sorted_values))//bucket_size\n",
    "df_buckets = df_sorted_values.groupby(number_of_buckets)"
   ]
  },
  {
   "cell_type": "code",
   "execution_count": null,
   "id": "72f27a6c-8af3-4520-8323-162ecd65e20d",
   "metadata": {},
   "outputs": [],
   "source": []
  }
 ],
 "metadata": {
  "kernelspec": {
   "display_name": "Python 3",
   "language": "python",
   "name": "python3"
  },
  "language_info": {
   "codemirror_mode": {
    "name": "ipython",
    "version": 3
   },
   "file_extension": ".py",
   "mimetype": "text/x-python",
   "name": "python",
   "nbconvert_exporter": "python",
   "pygments_lexer": "ipython3",
   "version": "3.8.8"
  }
 },
 "nbformat": 4,
 "nbformat_minor": 5
}
