{
 "cells": [
  {
   "cell_type": "code",
   "execution_count": 1,
   "id": "2fa9348e-035a-45d6-8a2a-67d172916c2c",
   "metadata": {},
   "outputs": [],
   "source": [
    "# Import statements\n",
    "import glob\n",
    "import pandas as pd"
   ]
  },
  {
   "cell_type": "code",
   "execution_count": 2,
   "id": "b65155cb-6175-4bd5-8cfb-0edc09e8ad76",
   "metadata": {},
   "outputs": [
    {
     "data": {
      "text/plain": [
       "(31000, 5)"
      ]
     },
     "execution_count": 2,
     "metadata": {},
     "output_type": "execute_result"
    }
   ],
   "source": [
    "dfList = []\n",
    "for file in sorted(glob.glob(\"./data/return-data/*\")):\n",
    "    one_day_df = pd.read_json(file, lines=True)\n",
    "    dfList.append(one_day_df)\n",
    "df = pd.concat(dfList).reset_index(drop=True)\n",
    "df.shape"
   ]
  },
  {
   "cell_type": "code",
   "execution_count": 3,
   "id": "fef7376f-aca0-467c-8b05-02f7fd3da0c3",
   "metadata": {},
   "outputs": [
    {
     "data": {
      "text/html": [
       "<div>\n",
       "<style scoped>\n",
       "    .dataframe tbody tr th:only-of-type {\n",
       "        vertical-align: middle;\n",
       "    }\n",
       "\n",
       "    .dataframe tbody tr th {\n",
       "        vertical-align: top;\n",
       "    }\n",
       "\n",
       "    .dataframe thead th {\n",
       "        text-align: right;\n",
       "    }\n",
       "</style>\n",
       "<table border=\"1\" class=\"dataframe\">\n",
       "  <thead>\n",
       "    <tr style=\"text-align: right;\">\n",
       "      <th></th>\n",
       "      <th>transactionId</th>\n",
       "      <th>basket</th>\n",
       "      <th>zipCode</th>\n",
       "      <th>totalAmount</th>\n",
       "      <th>returnLabel</th>\n",
       "    </tr>\n",
       "  </thead>\n",
       "  <tbody>\n",
       "    <tr>\n",
       "      <th>0</th>\n",
       "      <td>2957385223</td>\n",
       "      <td>[1, 3, 1, 5]</td>\n",
       "      <td>627</td>\n",
       "      <td>192</td>\n",
       "      <td>0</td>\n",
       "    </tr>\n",
       "    <tr>\n",
       "      <th>1</th>\n",
       "      <td>4890905342</td>\n",
       "      <td>[4, 5, 5, 1, 3, 4]</td>\n",
       "      <td>959</td>\n",
       "      <td>96</td>\n",
       "      <td>0</td>\n",
       "    </tr>\n",
       "    <tr>\n",
       "      <th>2</th>\n",
       "      <td>3950059852</td>\n",
       "      <td>[4]</td>\n",
       "      <td>625</td>\n",
       "      <td>67</td>\n",
       "      <td>0</td>\n",
       "    </tr>\n",
       "    <tr>\n",
       "      <th>3</th>\n",
       "      <td>9829252293</td>\n",
       "      <td>[2]</td>\n",
       "      <td>368</td>\n",
       "      <td>93</td>\n",
       "      <td>0</td>\n",
       "    </tr>\n",
       "    <tr>\n",
       "      <th>4</th>\n",
       "      <td>6828748016</td>\n",
       "      <td>[4, 4, 3]</td>\n",
       "      <td>575</td>\n",
       "      <td>171</td>\n",
       "      <td>0</td>\n",
       "    </tr>\n",
       "  </tbody>\n",
       "</table>\n",
       "</div>"
      ],
      "text/plain": [
       "   transactionId              basket  zipCode  totalAmount  returnLabel\n",
       "0     2957385223        [1, 3, 1, 5]      627          192            0\n",
       "1     4890905342  [4, 5, 5, 1, 3, 4]      959           96            0\n",
       "2     3950059852                 [4]      625           67            0\n",
       "3     9829252293                 [2]      368           93            0\n",
       "4     6828748016           [4, 4, 3]      575          171            0"
      ]
     },
     "execution_count": 3,
     "metadata": {},
     "output_type": "execute_result"
    }
   ],
   "source": [
    "df.head()"
   ]
  },
  {
   "cell_type": "markdown",
   "id": "3ca45e98-54b5-4f85-9cbb-dd41dbe5dc3c",
   "metadata": {},
   "source": [
    "## 1) Data Cleaning \n",
    "\n",
    "1. Basket = one hot encode with value number of occurences\n",
    "2. Zip code = one hot encode. However, in real life create features for every number in the zipcode. i.e. 2000 would be the larger area. 2300 would be a smaller area. etc..."
   ]
  },
  {
   "cell_type": "markdown",
   "id": "48770a0b-7473-47cc-8a33-cc7e45e28d71",
   "metadata": {},
   "source": [
    "### 1.1) Check for nulls"
   ]
  },
  {
   "cell_type": "code",
   "execution_count": 4,
   "id": "2b57110c-0067-450a-ac46-c88675444a6d",
   "metadata": {},
   "outputs": [
    {
     "data": {
      "text/plain": [
       "transactionId    0\n",
       "basket           0\n",
       "zipCode          0\n",
       "totalAmount      0\n",
       "returnLabel      0\n",
       "dtype: int64"
      ]
     },
     "execution_count": 4,
     "metadata": {},
     "output_type": "execute_result"
    }
   ],
   "source": [
    "# No nulls\n",
    "df.isnull().sum()"
   ]
  },
  {
   "cell_type": "markdown",
   "id": "e0940fc2-e6ff-4c60-9df8-0b0e0e11cc2a",
   "metadata": {},
   "source": [
    "### 1.2) Check for distribution in the target"
   ]
  },
  {
   "cell_type": "code",
   "execution_count": 5,
   "id": "bf74a1e9-2a72-4073-993f-fc2d2e65096e",
   "metadata": {},
   "outputs": [
    {
     "data": {
      "text/plain": [
       "0    30711\n",
       "1      289\n",
       "Name: returnLabel, dtype: int64"
      ]
     },
     "execution_count": 5,
     "metadata": {},
     "output_type": "execute_result"
    }
   ],
   "source": [
    "df.loc[:, \"returnLabel\"].value_counts()"
   ]
  },
  {
   "cell_type": "markdown",
   "id": "14953ccf-6aba-49fa-b6ac-963f735abeb9",
   "metadata": {},
   "source": [
    "### 1) TransactionId\n",
    "- Drop since transactionId is unique and provides no predictive power"
   ]
  },
  {
   "cell_type": "code",
   "execution_count": 6,
   "id": "7f23e480-6012-44db-b5b0-3ca7f958d5c1",
   "metadata": {},
   "outputs": [],
   "source": [
    "df_cleaned = df.drop(\"transactionId\", axis=1)"
   ]
  },
  {
   "cell_type": "markdown",
   "id": "303348e8-7398-4ac9-a6e9-d1b3f7e6b129",
   "metadata": {},
   "source": [
    "### 2) Basket"
   ]
  },
  {
   "cell_type": "code",
   "execution_count": 7,
   "id": "90c89469-ba18-418d-bf81-f2d821c1125f",
   "metadata": {},
   "outputs": [],
   "source": [
    "# one hot encode the basket variable\n",
    "df_basket_one_hot = df_cleaned.loc[:, 'basket'].map(lambda entry: { ('basket_' + str(e)):entry.count(e) for e in entry}).apply(pd.Series).fillna(0).astype('int')\n",
    "df_cleaned = pd.concat([df_cleaned, df_basket_one_hot], axis=1).drop('basket', axis=1)"
   ]
  },
  {
   "cell_type": "code",
   "execution_count": 8,
   "id": "303bc07d-03a2-4d45-8143-fa174ef3e5ae",
   "metadata": {},
   "outputs": [
    {
     "data": {
      "text/html": [
       "<div>\n",
       "<style scoped>\n",
       "    .dataframe tbody tr th:only-of-type {\n",
       "        vertical-align: middle;\n",
       "    }\n",
       "\n",
       "    .dataframe tbody tr th {\n",
       "        vertical-align: top;\n",
       "    }\n",
       "\n",
       "    .dataframe thead th {\n",
       "        text-align: right;\n",
       "    }\n",
       "</style>\n",
       "<table border=\"1\" class=\"dataframe\">\n",
       "  <thead>\n",
       "    <tr style=\"text-align: right;\">\n",
       "      <th></th>\n",
       "      <th>zipCode</th>\n",
       "      <th>totalAmount</th>\n",
       "      <th>returnLabel</th>\n",
       "      <th>basket_1</th>\n",
       "      <th>basket_3</th>\n",
       "      <th>basket_5</th>\n",
       "      <th>basket_4</th>\n",
       "      <th>basket_2</th>\n",
       "      <th>basket_0</th>\n",
       "    </tr>\n",
       "  </thead>\n",
       "  <tbody>\n",
       "    <tr>\n",
       "      <th>0</th>\n",
       "      <td>627</td>\n",
       "      <td>192</td>\n",
       "      <td>0</td>\n",
       "      <td>2</td>\n",
       "      <td>1</td>\n",
       "      <td>1</td>\n",
       "      <td>0</td>\n",
       "      <td>0</td>\n",
       "      <td>0</td>\n",
       "    </tr>\n",
       "    <tr>\n",
       "      <th>1</th>\n",
       "      <td>959</td>\n",
       "      <td>96</td>\n",
       "      <td>0</td>\n",
       "      <td>1</td>\n",
       "      <td>1</td>\n",
       "      <td>2</td>\n",
       "      <td>2</td>\n",
       "      <td>0</td>\n",
       "      <td>0</td>\n",
       "    </tr>\n",
       "    <tr>\n",
       "      <th>2</th>\n",
       "      <td>625</td>\n",
       "      <td>67</td>\n",
       "      <td>0</td>\n",
       "      <td>0</td>\n",
       "      <td>0</td>\n",
       "      <td>0</td>\n",
       "      <td>1</td>\n",
       "      <td>0</td>\n",
       "      <td>0</td>\n",
       "    </tr>\n",
       "    <tr>\n",
       "      <th>3</th>\n",
       "      <td>368</td>\n",
       "      <td>93</td>\n",
       "      <td>0</td>\n",
       "      <td>0</td>\n",
       "      <td>0</td>\n",
       "      <td>0</td>\n",
       "      <td>0</td>\n",
       "      <td>1</td>\n",
       "      <td>0</td>\n",
       "    </tr>\n",
       "    <tr>\n",
       "      <th>4</th>\n",
       "      <td>575</td>\n",
       "      <td>171</td>\n",
       "      <td>0</td>\n",
       "      <td>0</td>\n",
       "      <td>1</td>\n",
       "      <td>0</td>\n",
       "      <td>2</td>\n",
       "      <td>0</td>\n",
       "      <td>0</td>\n",
       "    </tr>\n",
       "  </tbody>\n",
       "</table>\n",
       "</div>"
      ],
      "text/plain": [
       "   zipCode  totalAmount  returnLabel  basket_1  basket_3  basket_5  basket_4  \\\n",
       "0      627          192            0         2         1         1         0   \n",
       "1      959           96            0         1         1         2         2   \n",
       "2      625           67            0         0         0         0         1   \n",
       "3      368           93            0         0         0         0         0   \n",
       "4      575          171            0         0         1         0         2   \n",
       "\n",
       "   basket_2  basket_0  \n",
       "0         0         0  \n",
       "1         0         0  \n",
       "2         0         0  \n",
       "3         1         0  \n",
       "4         0         0  "
      ]
     },
     "execution_count": 8,
     "metadata": {},
     "output_type": "execute_result"
    }
   ],
   "source": [
    "df_cleaned.head()"
   ]
  },
  {
   "cell_type": "markdown",
   "id": "7dc06f02-3400-4284-a945-51d1a514dcf0",
   "metadata": {},
   "source": [
    "### 3) ZipCode\n",
    "- one hot encode"
   ]
  },
  {
   "cell_type": "code",
   "execution_count": 9,
   "id": "97429429-55ea-4756-95ec-42bf1cf55c78",
   "metadata": {},
   "outputs": [],
   "source": [
    "df_cleaned['zipCode'] = pd.Categorical(df_cleaned['zipCode'], categories=list(range(100, 1001)))\n",
    "df_zipcode_dummies = pd.get_dummies(df_cleaned.loc[:, 'zipCode'], prefix='zipcode')"
   ]
  },
  {
   "cell_type": "code",
   "execution_count": 10,
   "id": "45e6600f-4fd8-4ec8-a6d4-9d9a9ea8f644",
   "metadata": {},
   "outputs": [],
   "source": [
    "df_cleaned = pd.concat([df_cleaned, df_zipcode_dummies], axis=1).drop('zipCode', axis=1)"
   ]
  },
  {
   "cell_type": "code",
   "execution_count": 11,
   "id": "724cad83-7839-415b-add3-48bd6dc65bee",
   "metadata": {},
   "outputs": [
    {
     "data": {
      "text/html": [
       "<div>\n",
       "<style scoped>\n",
       "    .dataframe tbody tr th:only-of-type {\n",
       "        vertical-align: middle;\n",
       "    }\n",
       "\n",
       "    .dataframe tbody tr th {\n",
       "        vertical-align: top;\n",
       "    }\n",
       "\n",
       "    .dataframe thead th {\n",
       "        text-align: right;\n",
       "    }\n",
       "</style>\n",
       "<table border=\"1\" class=\"dataframe\">\n",
       "  <thead>\n",
       "    <tr style=\"text-align: right;\">\n",
       "      <th></th>\n",
       "      <th>totalAmount</th>\n",
       "      <th>returnLabel</th>\n",
       "      <th>basket_1</th>\n",
       "      <th>basket_3</th>\n",
       "      <th>basket_5</th>\n",
       "      <th>basket_4</th>\n",
       "      <th>basket_2</th>\n",
       "      <th>basket_0</th>\n",
       "      <th>zipcode_100</th>\n",
       "      <th>zipcode_101</th>\n",
       "      <th>...</th>\n",
       "      <th>zipcode_991</th>\n",
       "      <th>zipcode_992</th>\n",
       "      <th>zipcode_993</th>\n",
       "      <th>zipcode_994</th>\n",
       "      <th>zipcode_995</th>\n",
       "      <th>zipcode_996</th>\n",
       "      <th>zipcode_997</th>\n",
       "      <th>zipcode_998</th>\n",
       "      <th>zipcode_999</th>\n",
       "      <th>zipcode_1000</th>\n",
       "    </tr>\n",
       "  </thead>\n",
       "  <tbody>\n",
       "    <tr>\n",
       "      <th>0</th>\n",
       "      <td>192</td>\n",
       "      <td>0</td>\n",
       "      <td>2</td>\n",
       "      <td>1</td>\n",
       "      <td>1</td>\n",
       "      <td>0</td>\n",
       "      <td>0</td>\n",
       "      <td>0</td>\n",
       "      <td>0</td>\n",
       "      <td>0</td>\n",
       "      <td>...</td>\n",
       "      <td>0</td>\n",
       "      <td>0</td>\n",
       "      <td>0</td>\n",
       "      <td>0</td>\n",
       "      <td>0</td>\n",
       "      <td>0</td>\n",
       "      <td>0</td>\n",
       "      <td>0</td>\n",
       "      <td>0</td>\n",
       "      <td>0</td>\n",
       "    </tr>\n",
       "    <tr>\n",
       "      <th>1</th>\n",
       "      <td>96</td>\n",
       "      <td>0</td>\n",
       "      <td>1</td>\n",
       "      <td>1</td>\n",
       "      <td>2</td>\n",
       "      <td>2</td>\n",
       "      <td>0</td>\n",
       "      <td>0</td>\n",
       "      <td>0</td>\n",
       "      <td>0</td>\n",
       "      <td>...</td>\n",
       "      <td>0</td>\n",
       "      <td>0</td>\n",
       "      <td>0</td>\n",
       "      <td>0</td>\n",
       "      <td>0</td>\n",
       "      <td>0</td>\n",
       "      <td>0</td>\n",
       "      <td>0</td>\n",
       "      <td>0</td>\n",
       "      <td>0</td>\n",
       "    </tr>\n",
       "    <tr>\n",
       "      <th>2</th>\n",
       "      <td>67</td>\n",
       "      <td>0</td>\n",
       "      <td>0</td>\n",
       "      <td>0</td>\n",
       "      <td>0</td>\n",
       "      <td>1</td>\n",
       "      <td>0</td>\n",
       "      <td>0</td>\n",
       "      <td>0</td>\n",
       "      <td>0</td>\n",
       "      <td>...</td>\n",
       "      <td>0</td>\n",
       "      <td>0</td>\n",
       "      <td>0</td>\n",
       "      <td>0</td>\n",
       "      <td>0</td>\n",
       "      <td>0</td>\n",
       "      <td>0</td>\n",
       "      <td>0</td>\n",
       "      <td>0</td>\n",
       "      <td>0</td>\n",
       "    </tr>\n",
       "    <tr>\n",
       "      <th>3</th>\n",
       "      <td>93</td>\n",
       "      <td>0</td>\n",
       "      <td>0</td>\n",
       "      <td>0</td>\n",
       "      <td>0</td>\n",
       "      <td>0</td>\n",
       "      <td>1</td>\n",
       "      <td>0</td>\n",
       "      <td>0</td>\n",
       "      <td>0</td>\n",
       "      <td>...</td>\n",
       "      <td>0</td>\n",
       "      <td>0</td>\n",
       "      <td>0</td>\n",
       "      <td>0</td>\n",
       "      <td>0</td>\n",
       "      <td>0</td>\n",
       "      <td>0</td>\n",
       "      <td>0</td>\n",
       "      <td>0</td>\n",
       "      <td>0</td>\n",
       "    </tr>\n",
       "    <tr>\n",
       "      <th>4</th>\n",
       "      <td>171</td>\n",
       "      <td>0</td>\n",
       "      <td>0</td>\n",
       "      <td>1</td>\n",
       "      <td>0</td>\n",
       "      <td>2</td>\n",
       "      <td>0</td>\n",
       "      <td>0</td>\n",
       "      <td>0</td>\n",
       "      <td>0</td>\n",
       "      <td>...</td>\n",
       "      <td>0</td>\n",
       "      <td>0</td>\n",
       "      <td>0</td>\n",
       "      <td>0</td>\n",
       "      <td>0</td>\n",
       "      <td>0</td>\n",
       "      <td>0</td>\n",
       "      <td>0</td>\n",
       "      <td>0</td>\n",
       "      <td>0</td>\n",
       "    </tr>\n",
       "    <tr>\n",
       "      <th>...</th>\n",
       "      <td>...</td>\n",
       "      <td>...</td>\n",
       "      <td>...</td>\n",
       "      <td>...</td>\n",
       "      <td>...</td>\n",
       "      <td>...</td>\n",
       "      <td>...</td>\n",
       "      <td>...</td>\n",
       "      <td>...</td>\n",
       "      <td>...</td>\n",
       "      <td>...</td>\n",
       "      <td>...</td>\n",
       "      <td>...</td>\n",
       "      <td>...</td>\n",
       "      <td>...</td>\n",
       "      <td>...</td>\n",
       "      <td>...</td>\n",
       "      <td>...</td>\n",
       "      <td>...</td>\n",
       "      <td>...</td>\n",
       "      <td>...</td>\n",
       "    </tr>\n",
       "    <tr>\n",
       "      <th>30995</th>\n",
       "      <td>630</td>\n",
       "      <td>0</td>\n",
       "      <td>3</td>\n",
       "      <td>2</td>\n",
       "      <td>2</td>\n",
       "      <td>1</td>\n",
       "      <td>1</td>\n",
       "      <td>0</td>\n",
       "      <td>0</td>\n",
       "      <td>0</td>\n",
       "      <td>...</td>\n",
       "      <td>0</td>\n",
       "      <td>0</td>\n",
       "      <td>0</td>\n",
       "      <td>0</td>\n",
       "      <td>0</td>\n",
       "      <td>0</td>\n",
       "      <td>0</td>\n",
       "      <td>0</td>\n",
       "      <td>0</td>\n",
       "      <td>0</td>\n",
       "    </tr>\n",
       "    <tr>\n",
       "      <th>30996</th>\n",
       "      <td>312</td>\n",
       "      <td>0</td>\n",
       "      <td>1</td>\n",
       "      <td>2</td>\n",
       "      <td>1</td>\n",
       "      <td>0</td>\n",
       "      <td>0</td>\n",
       "      <td>2</td>\n",
       "      <td>0</td>\n",
       "      <td>0</td>\n",
       "      <td>...</td>\n",
       "      <td>0</td>\n",
       "      <td>0</td>\n",
       "      <td>0</td>\n",
       "      <td>0</td>\n",
       "      <td>0</td>\n",
       "      <td>0</td>\n",
       "      <td>0</td>\n",
       "      <td>0</td>\n",
       "      <td>0</td>\n",
       "      <td>0</td>\n",
       "    </tr>\n",
       "    <tr>\n",
       "      <th>30997</th>\n",
       "      <td>84</td>\n",
       "      <td>0</td>\n",
       "      <td>0</td>\n",
       "      <td>3</td>\n",
       "      <td>1</td>\n",
       "      <td>2</td>\n",
       "      <td>0</td>\n",
       "      <td>0</td>\n",
       "      <td>0</td>\n",
       "      <td>0</td>\n",
       "      <td>...</td>\n",
       "      <td>0</td>\n",
       "      <td>0</td>\n",
       "      <td>0</td>\n",
       "      <td>0</td>\n",
       "      <td>0</td>\n",
       "      <td>0</td>\n",
       "      <td>0</td>\n",
       "      <td>0</td>\n",
       "      <td>0</td>\n",
       "      <td>0</td>\n",
       "    </tr>\n",
       "    <tr>\n",
       "      <th>30998</th>\n",
       "      <td>201</td>\n",
       "      <td>0</td>\n",
       "      <td>0</td>\n",
       "      <td>1</td>\n",
       "      <td>0</td>\n",
       "      <td>2</td>\n",
       "      <td>0</td>\n",
       "      <td>0</td>\n",
       "      <td>0</td>\n",
       "      <td>0</td>\n",
       "      <td>...</td>\n",
       "      <td>0</td>\n",
       "      <td>0</td>\n",
       "      <td>0</td>\n",
       "      <td>0</td>\n",
       "      <td>0</td>\n",
       "      <td>0</td>\n",
       "      <td>0</td>\n",
       "      <td>0</td>\n",
       "      <td>0</td>\n",
       "      <td>0</td>\n",
       "    </tr>\n",
       "    <tr>\n",
       "      <th>30999</th>\n",
       "      <td>301</td>\n",
       "      <td>0</td>\n",
       "      <td>1</td>\n",
       "      <td>2</td>\n",
       "      <td>1</td>\n",
       "      <td>2</td>\n",
       "      <td>0</td>\n",
       "      <td>1</td>\n",
       "      <td>0</td>\n",
       "      <td>0</td>\n",
       "      <td>...</td>\n",
       "      <td>0</td>\n",
       "      <td>0</td>\n",
       "      <td>0</td>\n",
       "      <td>0</td>\n",
       "      <td>0</td>\n",
       "      <td>0</td>\n",
       "      <td>0</td>\n",
       "      <td>0</td>\n",
       "      <td>0</td>\n",
       "      <td>0</td>\n",
       "    </tr>\n",
       "  </tbody>\n",
       "</table>\n",
       "<p>31000 rows × 909 columns</p>\n",
       "</div>"
      ],
      "text/plain": [
       "       totalAmount  returnLabel  basket_1  basket_3  basket_5  basket_4  \\\n",
       "0              192            0         2         1         1         0   \n",
       "1               96            0         1         1         2         2   \n",
       "2               67            0         0         0         0         1   \n",
       "3               93            0         0         0         0         0   \n",
       "4              171            0         0         1         0         2   \n",
       "...            ...          ...       ...       ...       ...       ...   \n",
       "30995          630            0         3         2         2         1   \n",
       "30996          312            0         1         2         1         0   \n",
       "30997           84            0         0         3         1         2   \n",
       "30998          201            0         0         1         0         2   \n",
       "30999          301            0         1         2         1         2   \n",
       "\n",
       "       basket_2  basket_0  zipcode_100  zipcode_101  ...  zipcode_991  \\\n",
       "0             0         0            0            0  ...            0   \n",
       "1             0         0            0            0  ...            0   \n",
       "2             0         0            0            0  ...            0   \n",
       "3             1         0            0            0  ...            0   \n",
       "4             0         0            0            0  ...            0   \n",
       "...         ...       ...          ...          ...  ...          ...   \n",
       "30995         1         0            0            0  ...            0   \n",
       "30996         0         2            0            0  ...            0   \n",
       "30997         0         0            0            0  ...            0   \n",
       "30998         0         0            0            0  ...            0   \n",
       "30999         0         1            0            0  ...            0   \n",
       "\n",
       "       zipcode_992  zipcode_993  zipcode_994  zipcode_995  zipcode_996  \\\n",
       "0                0            0            0            0            0   \n",
       "1                0            0            0            0            0   \n",
       "2                0            0            0            0            0   \n",
       "3                0            0            0            0            0   \n",
       "4                0            0            0            0            0   \n",
       "...            ...          ...          ...          ...          ...   \n",
       "30995            0            0            0            0            0   \n",
       "30996            0            0            0            0            0   \n",
       "30997            0            0            0            0            0   \n",
       "30998            0            0            0            0            0   \n",
       "30999            0            0            0            0            0   \n",
       "\n",
       "       zipcode_997  zipcode_998  zipcode_999  zipcode_1000  \n",
       "0                0            0            0             0  \n",
       "1                0            0            0             0  \n",
       "2                0            0            0             0  \n",
       "3                0            0            0             0  \n",
       "4                0            0            0             0  \n",
       "...            ...          ...          ...           ...  \n",
       "30995            0            0            0             0  \n",
       "30996            0            0            0             0  \n",
       "30997            0            0            0             0  \n",
       "30998            0            0            0             0  \n",
       "30999            0            0            0             0  \n",
       "\n",
       "[31000 rows x 909 columns]"
      ]
     },
     "execution_count": 11,
     "metadata": {},
     "output_type": "execute_result"
    }
   ],
   "source": [
    "df_cleaned"
   ]
  },
  {
   "cell_type": "markdown",
   "id": "2084c66d-691d-4449-98ae-ce57e50e6d8f",
   "metadata": {},
   "source": [
    "### 4) totalAmount"
   ]
  },
  {
   "cell_type": "code",
   "execution_count": 12,
   "id": "93d1260b-795f-4053-8de8-308630cd19c8",
   "metadata": {},
   "outputs": [
    {
     "data": {
      "text/plain": [
       "60      544\n",
       "40      486\n",
       "10      466\n",
       "50      444\n",
       "30      422\n",
       "       ... \n",
       "327       1\n",
       "1430      1\n",
       "1270      1\n",
       "1254      1\n",
       "1455      1\n",
       "Name: totalAmount, Length: 753, dtype: int64"
      ]
     },
     "execution_count": 12,
     "metadata": {},
     "output_type": "execute_result"
    }
   ],
   "source": [
    "df_cleaned.loc[:, 'totalAmount'].value_counts()"
   ]
  },
  {
   "cell_type": "markdown",
   "id": "9d5e80e6-a7d1-4288-a902-0a6a9e6bda7b",
   "metadata": {},
   "source": [
    "## 2) Modeling"
   ]
  },
  {
   "cell_type": "markdown",
   "id": "29dcc35a-e538-4ebf-8cc4-e15b36c97012",
   "metadata": {},
   "source": [
    "### 2.1) Train, Test split"
   ]
  },
  {
   "cell_type": "code",
   "execution_count": 13,
   "id": "2c097cd8-548b-471f-b156-c8b12c94ca51",
   "metadata": {},
   "outputs": [],
   "source": [
    "# Make X and y\n",
    "X = df_cleaned.loc[:, df_cleaned.columns != 'returnLabel']\n",
    "y = df_cleaned.loc[:, 'returnLabel']"
   ]
  },
  {
   "cell_type": "code",
   "execution_count": 14,
   "id": "1c2205ba-dfb6-43cc-8e12-880e3d78eb5e",
   "metadata": {},
   "outputs": [
    {
     "data": {
      "text/html": [
       "<div>\n",
       "<style scoped>\n",
       "    .dataframe tbody tr th:only-of-type {\n",
       "        vertical-align: middle;\n",
       "    }\n",
       "\n",
       "    .dataframe tbody tr th {\n",
       "        vertical-align: top;\n",
       "    }\n",
       "\n",
       "    .dataframe thead th {\n",
       "        text-align: right;\n",
       "    }\n",
       "</style>\n",
       "<table border=\"1\" class=\"dataframe\">\n",
       "  <thead>\n",
       "    <tr style=\"text-align: right;\">\n",
       "      <th></th>\n",
       "      <th>totalAmount</th>\n",
       "      <th>basket_1</th>\n",
       "      <th>basket_3</th>\n",
       "      <th>basket_5</th>\n",
       "      <th>basket_4</th>\n",
       "      <th>basket_2</th>\n",
       "      <th>basket_0</th>\n",
       "      <th>zipcode_100</th>\n",
       "      <th>zipcode_101</th>\n",
       "      <th>zipcode_102</th>\n",
       "      <th>...</th>\n",
       "      <th>zipcode_991</th>\n",
       "      <th>zipcode_992</th>\n",
       "      <th>zipcode_993</th>\n",
       "      <th>zipcode_994</th>\n",
       "      <th>zipcode_995</th>\n",
       "      <th>zipcode_996</th>\n",
       "      <th>zipcode_997</th>\n",
       "      <th>zipcode_998</th>\n",
       "      <th>zipcode_999</th>\n",
       "      <th>zipcode_1000</th>\n",
       "    </tr>\n",
       "  </thead>\n",
       "  <tbody>\n",
       "    <tr>\n",
       "      <th>0</th>\n",
       "      <td>192</td>\n",
       "      <td>2</td>\n",
       "      <td>1</td>\n",
       "      <td>1</td>\n",
       "      <td>0</td>\n",
       "      <td>0</td>\n",
       "      <td>0</td>\n",
       "      <td>0</td>\n",
       "      <td>0</td>\n",
       "      <td>0</td>\n",
       "      <td>...</td>\n",
       "      <td>0</td>\n",
       "      <td>0</td>\n",
       "      <td>0</td>\n",
       "      <td>0</td>\n",
       "      <td>0</td>\n",
       "      <td>0</td>\n",
       "      <td>0</td>\n",
       "      <td>0</td>\n",
       "      <td>0</td>\n",
       "      <td>0</td>\n",
       "    </tr>\n",
       "    <tr>\n",
       "      <th>1</th>\n",
       "      <td>96</td>\n",
       "      <td>1</td>\n",
       "      <td>1</td>\n",
       "      <td>2</td>\n",
       "      <td>2</td>\n",
       "      <td>0</td>\n",
       "      <td>0</td>\n",
       "      <td>0</td>\n",
       "      <td>0</td>\n",
       "      <td>0</td>\n",
       "      <td>...</td>\n",
       "      <td>0</td>\n",
       "      <td>0</td>\n",
       "      <td>0</td>\n",
       "      <td>0</td>\n",
       "      <td>0</td>\n",
       "      <td>0</td>\n",
       "      <td>0</td>\n",
       "      <td>0</td>\n",
       "      <td>0</td>\n",
       "      <td>0</td>\n",
       "    </tr>\n",
       "    <tr>\n",
       "      <th>2</th>\n",
       "      <td>67</td>\n",
       "      <td>0</td>\n",
       "      <td>0</td>\n",
       "      <td>0</td>\n",
       "      <td>1</td>\n",
       "      <td>0</td>\n",
       "      <td>0</td>\n",
       "      <td>0</td>\n",
       "      <td>0</td>\n",
       "      <td>0</td>\n",
       "      <td>...</td>\n",
       "      <td>0</td>\n",
       "      <td>0</td>\n",
       "      <td>0</td>\n",
       "      <td>0</td>\n",
       "      <td>0</td>\n",
       "      <td>0</td>\n",
       "      <td>0</td>\n",
       "      <td>0</td>\n",
       "      <td>0</td>\n",
       "      <td>0</td>\n",
       "    </tr>\n",
       "    <tr>\n",
       "      <th>3</th>\n",
       "      <td>93</td>\n",
       "      <td>0</td>\n",
       "      <td>0</td>\n",
       "      <td>0</td>\n",
       "      <td>0</td>\n",
       "      <td>1</td>\n",
       "      <td>0</td>\n",
       "      <td>0</td>\n",
       "      <td>0</td>\n",
       "      <td>0</td>\n",
       "      <td>...</td>\n",
       "      <td>0</td>\n",
       "      <td>0</td>\n",
       "      <td>0</td>\n",
       "      <td>0</td>\n",
       "      <td>0</td>\n",
       "      <td>0</td>\n",
       "      <td>0</td>\n",
       "      <td>0</td>\n",
       "      <td>0</td>\n",
       "      <td>0</td>\n",
       "    </tr>\n",
       "    <tr>\n",
       "      <th>4</th>\n",
       "      <td>171</td>\n",
       "      <td>0</td>\n",
       "      <td>1</td>\n",
       "      <td>0</td>\n",
       "      <td>2</td>\n",
       "      <td>0</td>\n",
       "      <td>0</td>\n",
       "      <td>0</td>\n",
       "      <td>0</td>\n",
       "      <td>0</td>\n",
       "      <td>...</td>\n",
       "      <td>0</td>\n",
       "      <td>0</td>\n",
       "      <td>0</td>\n",
       "      <td>0</td>\n",
       "      <td>0</td>\n",
       "      <td>0</td>\n",
       "      <td>0</td>\n",
       "      <td>0</td>\n",
       "      <td>0</td>\n",
       "      <td>0</td>\n",
       "    </tr>\n",
       "  </tbody>\n",
       "</table>\n",
       "<p>5 rows × 908 columns</p>\n",
       "</div>"
      ],
      "text/plain": [
       "   totalAmount  basket_1  basket_3  basket_5  basket_4  basket_2  basket_0  \\\n",
       "0          192         2         1         1         0         0         0   \n",
       "1           96         1         1         2         2         0         0   \n",
       "2           67         0         0         0         1         0         0   \n",
       "3           93         0         0         0         0         1         0   \n",
       "4          171         0         1         0         2         0         0   \n",
       "\n",
       "   zipcode_100  zipcode_101  zipcode_102  ...  zipcode_991  zipcode_992  \\\n",
       "0            0            0            0  ...            0            0   \n",
       "1            0            0            0  ...            0            0   \n",
       "2            0            0            0  ...            0            0   \n",
       "3            0            0            0  ...            0            0   \n",
       "4            0            0            0  ...            0            0   \n",
       "\n",
       "   zipcode_993  zipcode_994  zipcode_995  zipcode_996  zipcode_997  \\\n",
       "0            0            0            0            0            0   \n",
       "1            0            0            0            0            0   \n",
       "2            0            0            0            0            0   \n",
       "3            0            0            0            0            0   \n",
       "4            0            0            0            0            0   \n",
       "\n",
       "   zipcode_998  zipcode_999  zipcode_1000  \n",
       "0            0            0             0  \n",
       "1            0            0             0  \n",
       "2            0            0             0  \n",
       "3            0            0             0  \n",
       "4            0            0             0  \n",
       "\n",
       "[5 rows x 908 columns]"
      ]
     },
     "execution_count": 14,
     "metadata": {},
     "output_type": "execute_result"
    }
   ],
   "source": [
    "X.head()"
   ]
  },
  {
   "cell_type": "code",
   "execution_count": 15,
   "id": "80f2437f-ac79-4aa8-a19c-c8434bfe1a81",
   "metadata": {},
   "outputs": [
    {
     "data": {
      "text/plain": [
       "0    0\n",
       "1    0\n",
       "2    0\n",
       "3    0\n",
       "4    0\n",
       "Name: returnLabel, dtype: int64"
      ]
     },
     "execution_count": 15,
     "metadata": {},
     "output_type": "execute_result"
    }
   ],
   "source": [
    "y.head()"
   ]
  },
  {
   "cell_type": "code",
   "execution_count": 16,
   "id": "8db17d24-aa2a-42d1-a2ce-8f4e7cbbe75c",
   "metadata": {},
   "outputs": [],
   "source": [
    "from sklearn.model_selection import train_test_split"
   ]
  },
  {
   "cell_type": "code",
   "execution_count": 17,
   "id": "394b0f11-b4c2-4411-8839-42bbe205a18d",
   "metadata": {},
   "outputs": [],
   "source": [
    "X_train, X_test, y_train, y_test = train_test_split(X, y, test_size=0.33, random_state=42)"
   ]
  },
  {
   "cell_type": "markdown",
   "id": "bc351efe-21ab-41c0-91b5-965d1646b4ba",
   "metadata": {},
   "source": [
    "### 2.2) Make the model"
   ]
  },
  {
   "cell_type": "code",
   "execution_count": 18,
   "id": "d908b879-f039-4d97-b546-f60a7b5e1ab6",
   "metadata": {},
   "outputs": [],
   "source": [
    "# Logistic Regression\n",
    "from sklearn.linear_model import LogisticRegression"
   ]
  },
  {
   "cell_type": "code",
   "execution_count": 19,
   "id": "de65e220-9c45-4736-a2c9-f27153a0b0a3",
   "metadata": {},
   "outputs": [
    {
     "name": "stderr",
     "output_type": "stream",
     "text": [
      "/Users/grahamherdman/opt/anaconda3/lib/python3.8/site-packages/sklearn/linear_model/_logistic.py:762: ConvergenceWarning: lbfgs failed to converge (status=1):\n",
      "STOP: TOTAL NO. of ITERATIONS REACHED LIMIT.\n",
      "\n",
      "Increase the number of iterations (max_iter) or scale the data as shown in:\n",
      "    https://scikit-learn.org/stable/modules/preprocessing.html\n",
      "Please also refer to the documentation for alternative solver options:\n",
      "    https://scikit-learn.org/stable/modules/linear_model.html#logistic-regression\n",
      "  n_iter_i = _check_optimize_result(\n"
     ]
    }
   ],
   "source": [
    "# Predict using Logistic Regression\n",
    "clf = LogisticRegression(random_state=42, class_weight=\"balanced\").fit(X_train, y_train)\n",
    "predictions = clf.predict(X_test)"
   ]
  },
  {
   "cell_type": "code",
   "execution_count": 20,
   "id": "3e7dc26d-58d9-43d5-84db-11352212a0a1",
   "metadata": {},
   "outputs": [
    {
     "data": {
      "text/plain": [
       "0    8706\n",
       "1    1524\n",
       "dtype: int64"
      ]
     },
     "execution_count": 20,
     "metadata": {},
     "output_type": "execute_result"
    }
   ],
   "source": [
    "pd.Series(predictions).value_counts()"
   ]
  },
  {
   "cell_type": "code",
   "execution_count": 21,
   "id": "2ec2f8e4-4908-4a79-96f5-ab7ba1e350b7",
   "metadata": {},
   "outputs": [
    {
     "data": {
      "text/plain": [
       "0.8582600195503421"
      ]
     },
     "execution_count": 21,
     "metadata": {},
     "output_type": "execute_result"
    }
   ],
   "source": [
    "clf.score(X_test, y_test)"
   ]
  },
  {
   "cell_type": "code",
   "execution_count": 22,
   "id": "439ece03-159c-49f9-bd4b-03c5da0e825f",
   "metadata": {},
   "outputs": [
    {
     "data": {
      "text/plain": [
       "0.103831891223733"
      ]
     },
     "execution_count": 22,
     "metadata": {},
     "output_type": "execute_result"
    }
   ],
   "source": [
    "from sklearn.metrics import f1_score\n",
    "f1_score(y_test, predictions)"
   ]
  },
  {
   "cell_type": "markdown",
   "id": "ef076a0c-bd07-49f9-8d42-596c70a28d8d",
   "metadata": {},
   "source": [
    "## 3) Implement a ROC curve \n",
    "- x: False positive rate, y: True positive rate"
   ]
  },
  {
   "cell_type": "markdown",
   "id": "432f3c1a-bb55-41ca-a302-0e5c7707755d",
   "metadata": {},
   "source": [
    "### 3.1) Sklearn "
   ]
  },
  {
   "cell_type": "code",
   "execution_count": 23,
   "id": "780dedd6-036a-4e87-9541-04b94f32dde4",
   "metadata": {},
   "outputs": [],
   "source": [
    "df_predictions_test = pd.read_csv('./predictions_test.csv')\n",
    "df_predictions_test.columns = ['label', 'prediction_logistic_regression', 'prediction_gradient_boosted_tree']"
   ]
  },
  {
   "cell_type": "code",
   "execution_count": 24,
   "id": "700b58bf-c16f-4626-b48d-0f74eeaee0bd",
   "metadata": {},
   "outputs": [
    {
     "data": {
      "text/html": [
       "<div>\n",
       "<style scoped>\n",
       "    .dataframe tbody tr th:only-of-type {\n",
       "        vertical-align: middle;\n",
       "    }\n",
       "\n",
       "    .dataframe tbody tr th {\n",
       "        vertical-align: top;\n",
       "    }\n",
       "\n",
       "    .dataframe thead th {\n",
       "        text-align: right;\n",
       "    }\n",
       "</style>\n",
       "<table border=\"1\" class=\"dataframe\">\n",
       "  <thead>\n",
       "    <tr style=\"text-align: right;\">\n",
       "      <th></th>\n",
       "      <th>label</th>\n",
       "      <th>prediction_logistic_regression</th>\n",
       "      <th>prediction_gradient_boosted_tree</th>\n",
       "    </tr>\n",
       "  </thead>\n",
       "  <tbody>\n",
       "    <tr>\n",
       "      <th>0</th>\n",
       "      <td>0</td>\n",
       "      <td>0.000048</td>\n",
       "      <td>0.000553</td>\n",
       "    </tr>\n",
       "    <tr>\n",
       "      <th>1</th>\n",
       "      <td>0</td>\n",
       "      <td>0.000298</td>\n",
       "      <td>0.004249</td>\n",
       "    </tr>\n",
       "    <tr>\n",
       "      <th>2</th>\n",
       "      <td>0</td>\n",
       "      <td>0.005385</td>\n",
       "      <td>0.003387</td>\n",
       "    </tr>\n",
       "    <tr>\n",
       "      <th>3</th>\n",
       "      <td>0</td>\n",
       "      <td>0.011068</td>\n",
       "      <td>0.010059</td>\n",
       "    </tr>\n",
       "    <tr>\n",
       "      <th>4</th>\n",
       "      <td>0</td>\n",
       "      <td>0.000002</td>\n",
       "      <td>0.000487</td>\n",
       "    </tr>\n",
       "  </tbody>\n",
       "</table>\n",
       "</div>"
      ],
      "text/plain": [
       "   label  prediction_logistic_regression  prediction_gradient_boosted_tree\n",
       "0      0                        0.000048                          0.000553\n",
       "1      0                        0.000298                          0.004249\n",
       "2      0                        0.005385                          0.003387\n",
       "3      0                        0.011068                          0.010059\n",
       "4      0                        0.000002                          0.000487"
      ]
     },
     "execution_count": 24,
     "metadata": {},
     "output_type": "execute_result"
    }
   ],
   "source": [
    "df_predictions_test.head()"
   ]
  },
  {
   "cell_type": "code",
   "execution_count": 25,
   "id": "cb016083-a2c8-4710-a932-3014e4a47a93",
   "metadata": {},
   "outputs": [],
   "source": [
    "# import statements for ROC curve\n",
    "from sklearn.metrics import roc_curve, roc_auc_score\n",
    "import matplotlib.pyplot as plt"
   ]
  },
  {
   "cell_type": "code",
   "execution_count": 26,
   "id": "43136e92-77aa-460e-8a7e-fbf83dfdb4c0",
   "metadata": {},
   "outputs": [],
   "source": [
    "# get probability predictions\n",
    "score = clf.predict_proba(X_test)[:,1]\n",
    "probability_predictions = score"
   ]
  },
  {
   "cell_type": "code",
   "execution_count": 27,
   "id": "19e274eb-fc7e-4ca9-89c3-edaf0276a90e",
   "metadata": {},
   "outputs": [
    {
     "data": {
      "text/plain": [
       "array([2.23402366e-01, 1.47601095e-01, 6.18613604e-13, ...,\n",
       "       1.41130281e-02, 1.57486089e-01, 1.14167397e-06])"
      ]
     },
     "execution_count": 27,
     "metadata": {},
     "output_type": "execute_result"
    }
   ],
   "source": [
    "score"
   ]
  },
  {
   "cell_type": "code",
   "execution_count": 28,
   "id": "49bb2f98-2d52-4b74-b856-b3484146d095",
   "metadata": {},
   "outputs": [],
   "source": [
    "false_positive_rate, true_positive_rate, threshold = roc_curve(y_test, score)"
   ]
  },
  {
   "cell_type": "code",
   "execution_count": 29,
   "id": "aa868845-56cd-42bb-9e22-7f470833b81b",
   "metadata": {},
   "outputs": [
    {
     "name": "stdout",
     "output_type": "stream",
     "text": [
      "roc_auc_score for Logistic Regression:  0.9450326621773665\n"
     ]
    }
   ],
   "source": [
    "print('roc_auc_score for Logistic Regression: ', roc_auc_score(y_test, score))"
   ]
  },
  {
   "cell_type": "code",
   "execution_count": 30,
   "id": "9f4bc50b-ccda-4e43-b0cb-ec79e2ceb967",
   "metadata": {},
   "outputs": [
    {
     "data": {
      "image/png": "[encoded data removed]",
      "text/plain": [
       "<Figure size 720x720 with 1 Axes>"
      ]
     },
     "metadata": {
      "needs_background": "light"
     },
     "output_type": "display_data"
    }
   ],
   "source": [
    "plt.subplots(1, figsize=(10,10))\n",
    "plt.title('Receiver Operating Characteristic - Logistic regression')\n",
    "plt.plot(false_positive_rate, true_positive_rate)\n",
    "\n",
    "# plot y=x line\n",
    "plt.plot([0, 1], ls=\"--\")\n",
    "# plot \n",
    "plt.plot(0, 1, c=\".7\")\n",
    "plt.plot([0, 0], [1, 0] , c=\".7\")\n",
    "plt.plot([1, 1] , c=\".7\")\n",
    "plt.ylabel('True Positive Rate')\n",
    "plt.xlabel('False Positive Rate')\n",
    "plt.show()"
   ]
  },
  {
   "cell_type": "markdown",
   "id": "57f1cb9a-08fe-4800-94f7-339e97474660",
   "metadata": {},
   "source": [
    "***"
   ]
  },
  {
   "cell_type": "markdown",
   "id": "66b86b6d-dd93-41c0-8ca4-2e2899bb8108",
   "metadata": {},
   "source": [
    "### 3.2) From scratch with pandas"
   ]
  },
  {
   "cell_type": "markdown",
   "id": "d2bab4ae-b8b3-4b0a-bc37-06a38770055e",
   "metadata": {},
   "source": [
    "TPR = TP/TP+FN <br>\n",
    "FPR = FP/FP+TN"
   ]
  },
  {
   "cell_type": "code",
   "execution_count": 31,
   "id": "285653c1-9824-4769-9427-45a1caad7886",
   "metadata": {},
   "outputs": [],
   "source": [
    "# probabilities and thresholds\n",
    "thresholds = [0, 0.1, 0.2, 0.3, 0.4, 0.5, 0.6, 0.7, 0.8, 0.9, 1]\n",
    "df_probabilities = pd.DataFrame({\"True predictions\": y_test, \"Probability_being_1\": probability_predictions})\n"
   ]
  },
  {
   "cell_type": "code",
   "execution_count": 32,
   "id": "6a42c499-9db3-4e55-8b3a-8ce558311a62",
   "metadata": {},
   "outputs": [],
   "source": [
    "true_positive_rates = []\n",
    "false_positive_rates = []\n",
    "\n",
    "total_positives = len(df_probabilities.loc[df_probabilities.loc[:, \"True predictions\"] == 1])\n",
    "true_negatives = len(df_probabilities.loc[df_probabilities.loc[:, \"True predictions\"] == 0])\n",
    "\n",
    "for index, threshold in enumerate(thresholds):\n",
    "    df_probabilities.loc[:, \"threshold\" + str(threshold)] = df_probabilities.loc[:, \"Probability_being_1\"].apply(lambda x: 1 if x >= threshold else 0)\n",
    "    \n",
    "    true_positives = len(df_probabilities.loc[(df_probabilities.loc[:, \"True predictions\"] == 1) & (df_probabilities.loc[:, \"threshold\" + str(threshold)] == 1)])\n",
    "    false_positives = len(df_probabilities.loc[(df_probabilities.loc[:, \"True predictions\"] == 0) & (df_probabilities.loc[:, \"threshold\" + str(threshold)] == 1)])\n",
    "    \n",
    "    true_positive_rate = true_positives / total_positives\n",
    "    false_positive_rate = false_positives / (false_positives + true_negatives)\n",
    "    \n",
    "    true_positive_rates.append(true_positive_rate)\n",
    "    false_positive_rates.append(false_positive_rate)"
   ]
  },
  {
   "cell_type": "code",
   "execution_count": 33,
   "id": "b0e143a4-19c2-4eb2-bf72-531d66fecc6c",
   "metadata": {},
   "outputs": [
    {
     "data": {
      "image/png": "[encoded data removed]",
      "text/plain": [
       "<Figure size 720x720 with 1 Axes>"
      ]
     },
     "metadata": {
      "needs_background": "light"
     },
     "output_type": "display_data"
    }
   ],
   "source": [
    "plt.subplots(1, figsize=(10,10))\n",
    "plt.title('Receiver Operating Characteristic - Logistic regression')\n",
    "plt.plot(false_positive_rates, true_positive_rates)\n",
    "\n",
    "# plot y=x line\n",
    "plt.plot([0, 1], ls=\"--\")\n",
    "# plot \n",
    "# plt.plot(0, 1, c=\".7\")\n",
    "plt.plot([0, 0], [1, 0] , c=\".7\")\n",
    "plt.plot([1, 1] , c=\".7\")\n",
    "plt.ylabel('True Positive Rate')\n",
    "plt.xlabel('False Positive Rate')\n",
    "plt.show()"
   ]
  },
  {
   "cell_type": "markdown",
   "id": "9e81635f-de4c-4c5a-9c8c-7f1102284613",
   "metadata": {},
   "source": [
    "## 3) Under and over sampling"
   ]
  },
  {
   "cell_type": "code",
   "execution_count": null,
   "id": "f0ec33a7-1dbc-4f1a-b6de-fadbfb90c1e2",
   "metadata": {},
   "outputs": [],
   "source": []
  },
  {
   "cell_type": "code",
   "execution_count": null,
   "id": "1506234b-c502-4e8c-ae63-4053f9e054f8",
   "metadata": {},
   "outputs": [],
   "source": []
  },
  {
   "cell_type": "code",
   "execution_count": null,
   "id": "f0cc19ea-c4ba-4f32-a24d-68aa57cb60c7",
   "metadata": {},
   "outputs": [],
   "source": []
  },
  {
   "cell_type": "code",
   "execution_count": null,
   "id": "a4bd0580-0a46-47fb-b110-98a724848dba",
   "metadata": {},
   "outputs": [],
   "source": []
  },
  {
   "cell_type": "code",
   "execution_count": null,
   "id": "45c6b9a9-157d-4f02-9738-4d578b8ca57e",
   "metadata": {},
   "outputs": [],
   "source": []
  },
  {
   "cell_type": "code",
   "execution_count": null,
   "id": "5c42baa6-4b93-4de1-84b1-e968ebf1e9bf",
   "metadata": {},
   "outputs": [],
   "source": []
  }
 ],
 "metadata": {
  "kernelspec": {
   "display_name": "Python 3",
   "language": "python",
   "name": "python3"
  },
  "language_info": {
   "codemirror_mode": {
    "name": "ipython",
    "version": 3
   },
   "file_extension": ".py",
   "mimetype": "text/x-python",
   "name": "python",
   "nbconvert_exporter": "python",
   "pygments_lexer": "ipython3",
   "version": "3.8.8"
  }
 },
 "nbformat": 4,
 "nbformat_minor": 5
}
