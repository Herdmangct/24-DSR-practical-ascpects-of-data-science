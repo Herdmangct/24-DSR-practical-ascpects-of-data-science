{
 "cells": [
  {
   "cell_type": "markdown",
   "metadata": {},
   "source": [
    "### Load data"
   ]
  },
  {
   "cell_type": "code",
   "execution_count": 11,
   "metadata": {
    "scrolled": true
   },
   "outputs": [
    {
     "data": {
      "text/html": [
       "<div>\n",
       "<style scoped>\n",
       "    .dataframe tbody tr th:only-of-type {\n",
       "        vertical-align: middle;\n",
       "    }\n",
       "\n",
       "    .dataframe tbody tr th {\n",
       "        vertical-align: top;\n",
       "    }\n",
       "\n",
       "    .dataframe thead th {\n",
       "        text-align: right;\n",
       "    }\n",
       "</style>\n",
       "<table border=\"1\" class=\"dataframe\">\n",
       "  <thead>\n",
       "    <tr style=\"text-align: right;\">\n",
       "      <th></th>\n",
       "      <th>label</th>\n",
       "      <th>predReg</th>\n",
       "      <th>predGbt</th>\n",
       "      <th>predReg_up</th>\n",
       "    </tr>\n",
       "  </thead>\n",
       "  <tbody>\n",
       "    <tr>\n",
       "      <th>0</th>\n",
       "      <td>0</td>\n",
       "      <td>0.000048</td>\n",
       "      <td>0.000553</td>\n",
       "      <td>0.021381</td>\n",
       "    </tr>\n",
       "    <tr>\n",
       "      <th>1</th>\n",
       "      <td>0</td>\n",
       "      <td>0.000298</td>\n",
       "      <td>0.004249</td>\n",
       "      <td>0.005709</td>\n",
       "    </tr>\n",
       "    <tr>\n",
       "      <th>2</th>\n",
       "      <td>0</td>\n",
       "      <td>0.005385</td>\n",
       "      <td>0.003387</td>\n",
       "      <td>0.042259</td>\n",
       "    </tr>\n",
       "    <tr>\n",
       "      <th>3</th>\n",
       "      <td>0</td>\n",
       "      <td>0.011068</td>\n",
       "      <td>0.010059</td>\n",
       "      <td>0.683194</td>\n",
       "    </tr>\n",
       "    <tr>\n",
       "      <th>4</th>\n",
       "      <td>0</td>\n",
       "      <td>0.000002</td>\n",
       "      <td>0.000487</td>\n",
       "      <td>0.017195</td>\n",
       "    </tr>\n",
       "  </tbody>\n",
       "</table>\n",
       "</div>"
      ],
      "text/plain": [
       "   label   predReg   predGbt  predReg_up\n",
       "0      0  0.000048  0.000553    0.021381\n",
       "1      0  0.000298  0.004249    0.005709\n",
       "2      0  0.005385  0.003387    0.042259\n",
       "3      0  0.011068  0.010059    0.683194\n",
       "4      0  0.000002  0.000487    0.017195"
      ]
     },
     "execution_count": 11,
     "metadata": {},
     "output_type": "execute_result"
    }
   ],
   "source": [
    "import pandas as pd\n",
    "import numpy as np\n",
    "predictions = pd.read_csv(\"./data/predictions_up.csv\")\n",
    "predictions.head()"
   ]
  },
  {
   "cell_type": "markdown",
   "metadata": {},
   "source": [
    "### Task 4.1 - Brier Score"
   ]
  },
  {
   "cell_type": "code",
   "execution_count": 12,
   "metadata": {},
   "outputs": [
    {
     "name": "stdout",
     "output_type": "stream",
     "text": [
      "Brier Score of LogReg is: 0.007121913033017399\n",
      "Brier Score of Upsampled LogReg is: 0.08715447691828844\n",
      "Brier Score of GBT is: 0.009589360307732386\n"
     ]
    }
   ],
   "source": [
    "def brierScore(df, modelName):\n",
    "    return np.average((df[\"label\"].values - df[modelName].values) ** 2)\n",
    "\n",
    "brier_reg = brierScore(predictions, \"predReg\")\n",
    "brier_reg_up = brierScore(predictions, \"predReg_up\")\n",
    "brier_gbt = brierScore(predictions, \"predGbt\")\n",
    "\n",
    "print(\"Brier Score of LogReg is:\", brier_reg)\n",
    "print(\"Brier Score of Upsampled LogReg is:\", brier_reg_up)\n",
    "print(\"Brier Score of GBT is:\", brier_gbt)"
   ]
  },
  {
   "cell_type": "markdown",
   "metadata": {},
   "source": [
    "### Task 4.2 - Calibration Plot"
   ]
  },
  {
   "cell_type": "code",
   "execution_count": 13,
   "metadata": {},
   "outputs": [],
   "source": [
    "def calibrationError(predictions, modelName, bucketSize=100):\n",
    "    p_sorted = predictions.sort_values(by=[modelName]).reset_index(drop=True)\n",
    "    p_sorted[\"bucket_num\"] = p_sorted.index.map(lambda x: x // bucketSize)\n",
    "    p_mean = p_sorted.groupby(by='bucket_num').mean()\n",
    "    return (p_mean[\"label\"], p_mean[modelName])"
   ]
  },
  {
   "cell_type": "code",
   "execution_count": 14,
   "metadata": {
    "scrolled": true
   },
   "outputs": [
    {
     "data": {
      "image/png": "[encoded data removed]",
      "text/plain": [
       "<Figure size 432x288 with 1 Axes>"
      ]
     },
     "metadata": {
      "needs_background": "light"
     },
     "output_type": "display_data"
    }
   ],
   "source": [
    "p_predicted_gbt, p_real_gbt = calibrationError(predictions, \"predGbt\")\n",
    "p_predicted_reg, p_real_reg = calibrationError(predictions, \"predReg\")\n",
    "p_predicted_regup, p_real_regup = calibrationError(predictions, \"predReg_up\")\n",
    "\n",
    "import matplotlib.pyplot as plt\n",
    "plt.figure()\n",
    "plt.plot([0, 1], [0, 1], label = \"perfect\")\n",
    "plt.plot(p_real_gbt, p_predicted_gbt, color='g', label=f\"gbt:{brier_gbt:.5f}\")\n",
    "plt.plot(p_real_reg, p_predicted_reg, color='b', label=f\"reg:{brier_reg:.5f}\")\n",
    "plt.plot(p_real_regup, p_predicted_regup, color='r', label=f\"reg_up:{brier_reg_up:.5f}\")\n",
    "plt.legend()\n",
    "plt.grid()\n",
    "plt.show()"
   ]
  },
  {
   "cell_type": "markdown",
   "metadata": {},
   "source": [
    "### Task 4.3 - Probability Calibration"
   ]
  },
  {
   "cell_type": "code",
   "execution_count": 15,
   "metadata": {
    "scrolled": true
   },
   "outputs": [],
   "source": [
    "train_data = pd.read_pickle(\"./data/train_upsampled.pickle\")\n",
    "X_train = train_data.drop(\"returnLabel\", axis=1)\n",
    "y_train = train_data[\"returnLabel\"]"
   ]
  },
  {
   "cell_type": "code",
   "execution_count": 16,
   "metadata": {},
   "outputs": [],
   "source": [
    "from sklearn.linear_model import LogisticRegression\n",
    "logreg = LogisticRegression(max_iter=5000)"
   ]
  },
  {
   "cell_type": "code",
   "execution_count": 17,
   "metadata": {},
   "outputs": [
    {
     "data": {
      "text/plain": [
       "CalibratedClassifierCV(base_estimator=LogisticRegression(max_iter=5000))"
      ]
     },
     "execution_count": 17,
     "metadata": {},
     "output_type": "execute_result"
    }
   ],
   "source": [
    "from sklearn.calibration import CalibratedClassifierCV\n",
    "calibrated_clf = CalibratedClassifierCV(base_estimator=logreg)\n",
    "calibrated_clf.fit(X_train, y_train)"
   ]
  },
  {
   "cell_type": "code",
   "execution_count": 18,
   "metadata": {},
   "outputs": [],
   "source": [
    "# test \n",
    "test_data = pd.read_pickle(\"./data/test.pickle\")\n",
    "X_test = test_data.drop(\"returnLabel\", axis=1)\n",
    "y_test = test_data[\"returnLabel\"]\n",
    "test_scores = calibrated_clf.predict_proba(X_test)"
   ]
  },
  {
   "cell_type": "code",
   "execution_count": 19,
   "metadata": {
    "scrolled": true
   },
   "outputs": [
    {
     "data": {
      "image/png": "[encoded data removed]",
      "text/plain": [
       "<Figure size 432x288 with 1 Axes>"
      ]
     },
     "metadata": {
      "needs_background": "light"
     },
     "output_type": "display_data"
    }
   ],
   "source": [
    "df = pd.DataFrame(data={'label': y_test, 'pred': test_scores[:,1]}).reset_index(drop=True)\n",
    "return_rate, scores = calibrationError(df, \"pred\")\n",
    "brier = brierScore(df, \"pred\")\n",
    "\n",
    "plt.figure()\n",
    "plt.plot([0, 1], [0, 1], label = \"perfect\")\n",
    "plt.plot(scores, return_rate, color = 'g', label = f\"brier:{brier:.3f}\")\n",
    "plt.plot(p_real_regup, p_predicted_regup, color='r', label=f\"reg_up:{brier_reg_up:.5f}\")\n",
    "plt.legend()\n",
    "plt.grid()\n",
    "plt.show()"
   ]
  }
 ],
 "metadata": {
  "kernelspec": {
   "display_name": "Python 3",
   "language": "python",
   "name": "python3"
  },
  "language_info": {
   "codemirror_mode": {
    "name": "ipython",
    "version": 3
   },
   "file_extension": ".py",
   "mimetype": "text/x-python",
   "name": "python",
   "nbconvert_exporter": "python",
   "pygments_lexer": "ipython3",
   "version": "3.8.5"
  }
 },
 "nbformat": 4,
 "nbformat_minor": 2
}
